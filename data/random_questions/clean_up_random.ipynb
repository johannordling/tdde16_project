{
 "cells": [
  {
   "cell_type": "code",
   "execution_count": 119,
   "metadata": {},
   "outputs": [],
   "source": [
    "import pandas as pd"
   ]
  },
  {
   "cell_type": "code",
   "execution_count": 120,
   "metadata": {},
   "outputs": [],
   "source": [
    "# Prevent truncation of text\n",
    "pd.set_option('display.max_colwidth', None)\n",
    "# Show more rows\n",
    "pd.set_option('display.max_rows', 6000)"
   ]
  },
  {
   "cell_type": "code",
   "execution_count": 121,
   "metadata": {},
   "outputs": [],
   "source": [
    "df = pd.read_csv(\"questions_swedish.csv\")"
   ]
  },
  {
   "cell_type": "code",
   "execution_count": 122,
   "metadata": {},
   "outputs": [
    {
     "name": "stdout",
     "output_type": "stream",
     "text": [
      "Invalid rows in random_questions: 0\n"
     ]
    }
   ],
   "source": [
    "# How many rows where question_swedish is NaN?\n",
    "invalid_random_questions = df[df[\"question_swedish\"].isna()].shape[0]\n",
    "\n",
    "print(f\"Invalid rows in random_questions: {invalid_random_questions}\")"
   ]
  },
  {
   "cell_type": "code",
   "execution_count": 123,
   "metadata": {},
   "outputs": [],
   "source": [
    "# Select only the columns containing the questions\n",
    "df_questions = df[\"question_swedish\"]\n",
    "\n",
    "# Rename the column question_swedish to \"question\"\n",
    "df_questions = df_questions.rename(\"question\")"
   ]
  },
  {
   "cell_type": "code",
   "execution_count": 124,
   "metadata": {},
   "outputs": [],
   "source": [
    "# Randomly shuffle the DataFrame\n",
    "df_questions_shuffled = df_questions.sample(frac = 1, random_state = 1).reset_index(drop = True)"
   ]
  },
  {
   "cell_type": "code",
   "execution_count": 125,
   "metadata": {},
   "outputs": [
    {
     "name": "stderr",
     "output_type": "stream",
     "text": [
      "/var/folders/q1/vj3rtg0j2ps7rtxf7_n3mq3c0000gn/T/ipykernel_11561/3432068867.py:2: FutureWarning: The default value of regex will change from True to False in a future version.\n",
      "  df_questions_shuffled = df_questions_shuffled.str.replace(r\"Fråga \\d+: \", \"\")\n"
     ]
    }
   ],
   "source": [
    "# For those questions which start with \"Fråga number: \" remove the \"Fråga number: \" part\n",
    "df_questions_shuffled = df_questions_shuffled.str.replace(r\"Fråga \\d+: \", \"\")"
   ]
  },
  {
   "cell_type": "code",
   "execution_count": 127,
   "metadata": {},
   "outputs": [],
   "source": [
    "# Write the DataFrame to a CSV file\n",
    "df_questions_shuffled.to_csv(\"questions_swedish_clean.csv\", index = False)"
   ]
  }
 ],
 "metadata": {
  "kernelspec": {
   "display_name": "Python 3",
   "language": "python",
   "name": "python3"
  },
  "language_info": {
   "codemirror_mode": {
    "name": "ipython",
    "version": 3
   },
   "file_extension": ".py",
   "mimetype": "text/x-python",
   "name": "python",
   "nbconvert_exporter": "python",
   "pygments_lexer": "ipython3",
   "version": "3.11.2"
  },
  "orig_nbformat": 4
 },
 "nbformat": 4,
 "nbformat_minor": 2
}
