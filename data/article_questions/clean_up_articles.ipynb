{
 "cells": [
  {
   "cell_type": "code",
   "execution_count": null,
   "metadata": {},
   "outputs": [],
   "source": [
    "import pandas as pd"
   ]
  },
  {
   "cell_type": "code",
   "execution_count": null,
   "metadata": {},
   "outputs": [],
   "source": [
    "# Prevent truncation of text\n",
    "pd.set_option('display.max_colwidth', None)\n",
    "# Show more rows\n",
    "pd.set_option('display.max_rows', 5000)"
   ]
  },
  {
   "cell_type": "code",
   "execution_count": null,
   "metadata": {},
   "outputs": [],
   "source": [
    "df = pd.read_csv(\"articles_questions.csv\")"
   ]
  },
  {
   "cell_type": "code",
   "execution_count": null,
   "metadata": {},
   "outputs": [],
   "source": [
    "# How many rows where question_1 or question_2 is NaN?\n",
    "invalid_articles_questions =  df[df[\"question_1\"].isna() | df[\"question_2\"].isna()].shape[0]\n",
    "\n",
    "print(f\"Invalid rows in articles_questions: {invalid_articles_questions}\")"
   ]
  },
  {
   "cell_type": "code",
   "execution_count": null,
   "metadata": {},
   "outputs": [],
   "source": [
    "# Select only the columns containing the questions\n",
    "df_questions = df[[\"question_1\", \"question_2\"]]\n",
    "\n",
    "# Reshape the DataFrame using melt()\n",
    "df_questions_1_column = df_questions.melt(var_name=\"column\", value_name=\"question\")\n",
    "\n",
    "# Select only the \"question\" column\n",
    "df_questions_1_column = df_questions_1_column[[\"question\"]]"
   ]
  },
  {
   "cell_type": "code",
   "execution_count": null,
   "metadata": {},
   "outputs": [],
   "source": [
    "# Randomly shuffle the DataFrame\n",
    "df_questions_1_column_shuffled = df_questions_1_column.sample(frac = 1, random_state = 1).reset_index(drop = True)"
   ]
  },
  {
   "cell_type": "code",
   "execution_count": null,
   "metadata": {},
   "outputs": [],
   "source": [
    "# Write the DataFrame to a CSV file\n",
    "df_questions_1_column_shuffled.to_csv(\"articles_questions_clean.csv\", index = False)"
   ]
  }
 ],
 "metadata": {
  "kernelspec": {
   "display_name": "Python 3",
   "language": "python",
   "name": "python3"
  },
  "language_info": {
   "codemirror_mode": {
    "name": "ipython",
    "version": 3
   },
   "file_extension": ".py",
   "mimetype": "text/x-python",
   "name": "python",
   "nbconvert_exporter": "python",
   "pygments_lexer": "ipython3",
   "version": "3.11.2"
  },
  "orig_nbformat": 4
 },
 "nbformat": 4,
 "nbformat_minor": 2
}
