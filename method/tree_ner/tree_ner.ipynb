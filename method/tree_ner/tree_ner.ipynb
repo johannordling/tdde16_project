{
 "cells": [
  {
   "cell_type": "code",
   "execution_count": 2,
   "metadata": {},
   "outputs": [],
   "source": [
    "from sklearn.model_selection import train_test_split\n",
    "from sklearn.tree import DecisionTreeClassifier\n",
    "from sklearn.metrics import accuracy_score\n",
    "from sklearn.preprocessing import MultiLabelBinarizer\n",
    "import pandas as pd\n",
    "import spacy\n",
    "import matplotlib.pyplot as plt\n",
    "from sklearn.metrics import confusion_matrix, ConfusionMatrixDisplay\n",
    "import sklearn"
   ]
  },
  {
   "cell_type": "code",
   "execution_count": 3,
   "metadata": {},
   "outputs": [
    {
     "name": "stdout",
     "output_type": "stream",
     "text": [
      "training data:  (6400, 2)\n",
      "testing data:  (1600, 2)\n"
     ]
    }
   ],
   "source": [
    "data = pd.read_csv('dataset.csv')\n",
    "\n",
    "# Divide the data into training and test\n",
    "training_data, testing_data = train_test_split(data, test_size=0.2, random_state = 1)\n",
    "\n",
    "print(\"training data: \", training_data.shape)\n",
    "print(\"testing data: \", testing_data.shape)"
   ]
  },
  {
   "cell_type": "code",
   "execution_count": 4,
   "metadata": {},
   "outputs": [],
   "source": [
    "nlp = spacy.load(\"sv_core_news_lg\")\n",
    "\n",
    "def preprocess(question):\n",
    "    doc = nlp(question)\n",
    "    entities = [ent.text for ent in doc.ents]\n",
    "    return entities"
   ]
  },
  {
   "cell_type": "code",
   "execution_count": 5,
   "metadata": {},
   "outputs": [],
   "source": [
    "# Find the maximum number of entities in the training dataset\n",
    "max_entities = max([len(preprocess(row[\"question\"])) for _, row in data.iterrows()])"
   ]
  },
  {
   "cell_type": "code",
   "execution_count": 6,
   "metadata": {},
   "outputs": [],
   "source": [
    "tree = DecisionTreeClassifier()\n",
    "\n",
    "# Load the training dataset\n",
    "X_train = []\n",
    "y_train = []\n",
    "\n",
    "# Preprocess each question in the training dataset and append the resulting entities to X_train\n",
    "for _, row in training_data.iterrows():\n",
    "    entities = preprocess(row[\"question\"])\n",
    "    padded_entities = entities + ['0'] * (max_entities - len(entities))\n",
    "    X_train.append(padded_entities)\n",
    "    y_train.append(row[\"label\"])\n"
   ]
  },
  {
   "cell_type": "code",
   "execution_count": 7,
   "metadata": {},
   "outputs": [],
   "source": [
    "# One-hot encode the entity lists using scikit-learn's MultiLabelBinarizer\n",
    "mlb = MultiLabelBinarizer()\n",
    "X_train = mlb.fit_transform(X_train)"
   ]
  },
  {
   "cell_type": "code",
   "execution_count": 8,
   "metadata": {},
   "outputs": [
    {
     "data": {
      "text/html": [
       "<style>#sk-container-id-1 {color: black;background-color: white;}#sk-container-id-1 pre{padding: 0;}#sk-container-id-1 div.sk-toggleable {background-color: white;}#sk-container-id-1 label.sk-toggleable__label {cursor: pointer;display: block;width: 100%;margin-bottom: 0;padding: 0.3em;box-sizing: border-box;text-align: center;}#sk-container-id-1 label.sk-toggleable__label-arrow:before {content: \"▸\";float: left;margin-right: 0.25em;color: #696969;}#sk-container-id-1 label.sk-toggleable__label-arrow:hover:before {color: black;}#sk-container-id-1 div.sk-estimator:hover label.sk-toggleable__label-arrow:before {color: black;}#sk-container-id-1 div.sk-toggleable__content {max-height: 0;max-width: 0;overflow: hidden;text-align: left;background-color: #f0f8ff;}#sk-container-id-1 div.sk-toggleable__content pre {margin: 0.2em;color: black;border-radius: 0.25em;background-color: #f0f8ff;}#sk-container-id-1 input.sk-toggleable__control:checked~div.sk-toggleable__content {max-height: 200px;max-width: 100%;overflow: auto;}#sk-container-id-1 input.sk-toggleable__control:checked~label.sk-toggleable__label-arrow:before {content: \"▾\";}#sk-container-id-1 div.sk-estimator input.sk-toggleable__control:checked~label.sk-toggleable__label {background-color: #d4ebff;}#sk-container-id-1 div.sk-label input.sk-toggleable__control:checked~label.sk-toggleable__label {background-color: #d4ebff;}#sk-container-id-1 input.sk-hidden--visually {border: 0;clip: rect(1px 1px 1px 1px);clip: rect(1px, 1px, 1px, 1px);height: 1px;margin: -1px;overflow: hidden;padding: 0;position: absolute;width: 1px;}#sk-container-id-1 div.sk-estimator {font-family: monospace;background-color: #f0f8ff;border: 1px dotted black;border-radius: 0.25em;box-sizing: border-box;margin-bottom: 0.5em;}#sk-container-id-1 div.sk-estimator:hover {background-color: #d4ebff;}#sk-container-id-1 div.sk-parallel-item::after {content: \"\";width: 100%;border-bottom: 1px solid gray;flex-grow: 1;}#sk-container-id-1 div.sk-label:hover label.sk-toggleable__label {background-color: #d4ebff;}#sk-container-id-1 div.sk-serial::before {content: \"\";position: absolute;border-left: 1px solid gray;box-sizing: border-box;top: 0;bottom: 0;left: 50%;z-index: 0;}#sk-container-id-1 div.sk-serial {display: flex;flex-direction: column;align-items: center;background-color: white;padding-right: 0.2em;padding-left: 0.2em;position: relative;}#sk-container-id-1 div.sk-item {position: relative;z-index: 1;}#sk-container-id-1 div.sk-parallel {display: flex;align-items: stretch;justify-content: center;background-color: white;position: relative;}#sk-container-id-1 div.sk-item::before, #sk-container-id-1 div.sk-parallel-item::before {content: \"\";position: absolute;border-left: 1px solid gray;box-sizing: border-box;top: 0;bottom: 0;left: 50%;z-index: -1;}#sk-container-id-1 div.sk-parallel-item {display: flex;flex-direction: column;z-index: 1;position: relative;background-color: white;}#sk-container-id-1 div.sk-parallel-item:first-child::after {align-self: flex-end;width: 50%;}#sk-container-id-1 div.sk-parallel-item:last-child::after {align-self: flex-start;width: 50%;}#sk-container-id-1 div.sk-parallel-item:only-child::after {width: 0;}#sk-container-id-1 div.sk-dashed-wrapped {border: 1px dashed gray;margin: 0 0.4em 0.5em 0.4em;box-sizing: border-box;padding-bottom: 0.4em;background-color: white;}#sk-container-id-1 div.sk-label label {font-family: monospace;font-weight: bold;display: inline-block;line-height: 1.2em;}#sk-container-id-1 div.sk-label-container {text-align: center;}#sk-container-id-1 div.sk-container {/* jupyter's `normalize.less` sets `[hidden] { display: none; }` but bootstrap.min.css set `[hidden] { display: none !important; }` so we also need the `!important` here to be able to override the default hidden behavior on the sphinx rendered scikit-learn.org. See: https://github.com/scikit-learn/scikit-learn/issues/21755 */display: inline-block !important;position: relative;}#sk-container-id-1 div.sk-text-repr-fallback {display: none;}</style><div id=\"sk-container-id-1\" class=\"sk-top-container\"><div class=\"sk-text-repr-fallback\"><pre>DecisionTreeClassifier()</pre><b>In a Jupyter environment, please rerun this cell to show the HTML representation or trust the notebook. <br />On GitHub, the HTML representation is unable to render, please try loading this page with nbviewer.org.</b></div><div class=\"sk-container\" hidden><div class=\"sk-item\"><div class=\"sk-estimator sk-toggleable\"><input class=\"sk-toggleable__control sk-hidden--visually\" id=\"sk-estimator-id-1\" type=\"checkbox\" checked><label for=\"sk-estimator-id-1\" class=\"sk-toggleable__label sk-toggleable__label-arrow\">DecisionTreeClassifier</label><div class=\"sk-toggleable__content\"><pre>DecisionTreeClassifier()</pre></div></div></div></div></div>"
      ],
      "text/plain": [
       "DecisionTreeClassifier()"
      ]
     },
     "execution_count": 8,
     "metadata": {},
     "output_type": "execute_result"
    }
   ],
   "source": [
    "# Train the decision tree model\n",
    "tree.fit(X_train, y_train)"
   ]
  },
  {
   "cell_type": "code",
   "execution_count": 9,
   "metadata": {},
   "outputs": [],
   "source": [
    "# Load the test dataset\n",
    "X_test = []\n",
    "y_test = []\n",
    "\n",
    "# Preprocess each question in the test dataset and append the resulting entities to X_test\n",
    "for _, row in testing_data.iterrows():\n",
    "    entities = preprocess(row[\"question\"])\n",
    "    padded_entities = entities + ['0'] * (max_entities - len(entities))\n",
    "    X_test.append(padded_entities)\n",
    "    y_test.append(row[\"label\"])"
   ]
  },
  {
   "cell_type": "code",
   "execution_count": 10,
   "metadata": {},
   "outputs": [
    {
     "name": "stderr",
     "output_type": "stream",
     "text": [
      "/Users/johannordling/Library/Python/3.9/lib/python/site-packages/sklearn/preprocessing/_label.py:878: UserWarning: unknown class(es) ['10 pund', '12 miljoner dollar', '3 månader', '30 pund', 'ATP', 'Abbas Gallyamov', 'Agathe Demarais', 'Aichi', 'Akhilesh Yadav', 'Aleksandr Novak', 'Aleksandr Volfovitj', 'Aleksej Navalnyj', 'Alina Sibai', 'Amerikorna', 'Amineh Kakabaveh', 'Amnesty Internationals Ukrainakontor?', 'Amphenol?', 'Anders Borg', 'Anders Borgs', 'Andrej', 'Andrews University', 'Andrius Tursa', 'Andy Warhol', 'Antergos', 'Anthony Zurcher', 'Apricity', 'Asli Aydintasbas', 'Aylin Fazelian', 'BOOTMGR', 'Bahnhofs', 'Baltops', 'Banquo Macbeth', 'Belgien', 'Ben Harris', 'Ben Hodges', 'Berklee College of Music?', 'Bern', 'Bollywood-filmen 2016', 'Boris Rapoport', 'Brian Castner', 'CIA/FBI/Försvarsmakten', 'Carnegie', 'Celeste Wallander', 'Champions', 'Charkiv', 'Chris Kempczinski', 'Christer Fuglesang', 'Claes Eliasson', 'Coca-Cola Company', 'Colaba', 'DI:s PM Nilsson', 'Dagens Industris PM Nilsson', 'Dan Schulman', 'Daniel Bunnskog', 'Darfur, etc.', 'Dark Net', 'Denzel Washington', 'Der', 'Diana Magnay', 'Dmitrij Muratovs', 'Dmitry Rogozin', 'Dribbble', 'Dynamo', 'Dynamo Moskva', 'Dzjankoj', 'Echo', 'Eckhart Tolle', 'Elena Popova', 'Eli Cohen', 'Eli Cohens', 'Elizabeth Warrens', 'Ella Lesage', 'Erdogan?', 'European Council on', 'Europeiska', 'Everton', 'FN:s Kontor', 'Fadia Hamieh', 'Family Guy', 'Fetty Wap', 'Filippo Grandi?', 'Frankrikes Europaminister Clement Baune', 'Fundler', 'Gabrielius Landsbergis', 'Gazproms', 'Gudrun Schymans', 'Gujarati', 'HCF', 'Hallbergs', 'Harry Potter-serien', 'Haryana', 'Helsingfors', 'Herberts', 'Hill International?', 'Himlen\"', 'Holden', 'Honda Accord LX', 'Huanghua, Hebei', 'IAS', 'IBPS', 'IBPS PO-', 'ICRC', 'IIHF', 'IIT JEE', 'IOM?', 'ISS?', 'Indonesien', 'Infosys', 'Ingrid Melander', 'International Library for', 'Internationella atomenergiorganet IAEA:s', 'Internationella brottmålsdomstolen', 'Internationella olympiska', 'Internationella paralympiska kommittén', 'Iowa', 'Iron', 'Iryna Veretjuk', 'Jacob Liebermann', 'Jakob Forssmeds', 'Jakob Hedenskog', 'Jan Eliasson', 'Jawaharlal', 'Jayadritha Shastri', 'Jayalalitha', 'Jeevan Anand', 'Jesus Gud', 'Jimmy Wales', 'Joakim Nordström', 'Joar Forssell', 'Jon Karlung', 'Joseph Goebbels', 'Jämställdhetsmyndigheten', 'Kakabaveh', 'Kaliforniens', 'Kaliningrad', 'Kaliningrad-exklaven', 'Kanadas', 'Kantar Sifo', 'Katja Hoyer', 'Khan', 'Kirill Stremusov', 'Komaki', 'Konrad Krajewski', 'Kristdemokraterna', 'Krym', 'Krymhalvön', 'Kulichenko', 'Kupjansk', 'Kyivregionens', 'Lars Jonung', 'Leonid Slutskij', 'Life', 'Litauens', 'Liz Throssell', 'Lloyd Austin', 'Londons', 'Lord Rudra', 'Lord Shiva', 'Lucas Wallmark', 'Luhanskprovinsens', 'Lukasjenko', 'Lukasjenkos', 'Lviv?', 'MCO', \"Macbeth'?\", 'Magnus Christansson', 'Makariv', 'Marathi', 'Marcus Björklund', 'Maria Zacharova Boris Johnson', 'Maria Zakharova', 'Marja Lemne', 'Mark Olshaker', 'MasterCard', 'Mediazona', 'Michael Stevens', 'Michael T Osterholm', 'Michajlo Podoljak', 'Microsoft Surface Pro', 'Mikael Vilenius', 'Miljöpartiets', 'Morgan Johansson', 'Mulayam Singh Yadav', 'Murugadoss', 'Muscoy', 'Myanmar?', 'Mychajlo Karenovskij', 'Mykailyna', 'Mykhailo Podolyak', 'NDF', 'NID för UG?', 'NVIDIA GTX', 'Nasa', 'Natalia Gurushina', 'Nationernas Förbund', 'New Delhi', 'Niklas Karlsson', 'Nobels', 'Nova Scotias', 'Novaja Gazeta', 'Nynäshamn', 'Odesa, Tjornomorsk', 'Ola Select', 'Oleh Surhov', 'Oleh Synebuhov?', 'Olenja', 'Olexander', 'Oman', 'Ontarios?', 'Oscar Jonson', 'Oscars', 'Oskils', 'Park University', 'Paul Stratton', 'Paypals', 'Philadelphia', 'Planet labs?', 'Podil', 'Post Properties', 'RSF:s', 'Rajkumar Hirani', 'Ravishankar', 'Razoni', 'Republic Services?', 'Reznіkov', 'Richard', 'Robert Boije', 'Roman Saini', 'Royal Enfield Classic', 'Rs.1', 'Ryssland Twitter', 'Röster', 'SVT:', 'Saudiarabien', 'Scott D.', 'Scottie Pippen', 'Sergei Lavrov', 'Serhij Bratsjuk', 'Seth Macfarlane', 'Shahed', 'Shapps', 'Sifo', 'Silicon Valley', 'Singur', 'Skåne', 'Slovjansk', 'Socialdemokraterna', 'Sovjetunionen', 'Stephane Dujarric', 'Stephen Fry', 'Stony Brook', 'Storbritanniens försvarsminister', 'Street Videos', 'Stuart Thompson', 'Sumy', 'Svenska Bandyförbundets', 'Svenska institutet och', 'Svetlana Kovalenko', 'Sydkinesiska havet', 'Sydsudans', 'Taiwans', 'Target', 'Tata Nano', 'Tesla Motors', 'Tetjana Mudrjenko', 'Texas', 'The Guardians Kate Connolly?', 'The House on Mango Street', 'The Independent', 'The Kiev Independent?', 'The Power of Now', 'The Walking Dead', 'The Wall Street Journal', 'Theresa Mays', 'Tim Cook', 'Tim Lister', 'Times Now', 'Tom Cruise', 'Tytti Tuppurainen', 'USS Forrest Shermans', 'Ubuntu', 'Ukraina Kina', 'Uppsala universitet', 'VG', 'Valerys', 'Vascular Solutions?', 'Vatikanens', 'Volodomyr Zelenskyj', 'Volvo?', 'Volvos', 'Vänsterpartiets', 'Walmart', 'WhatsApp-chattbackup', 'Will Brown', 'William Burns', 'Wimbledons', 'Winthrop University?', 'World of Tanks', 'Yousef Al Otaiba', 'Zelenskyj Sverige', 'akryler', 'alla säsonger', 'de senaste 40 åren', 'de senaste tre veckorna', 'deck', 'den 21 september', 'den 24 februari', 'efter de senaste', 'från 1976', 'från andra världskriget', 'för i veckan', 'i början av april', 'i januari', 'i juni i år', 'i slutet av mars', 'kant', 'manliga biroll', 'messenger', 'motivationsföreläsaren', 'nyhetsbyrån AP', 'på 3 månader', 'på 70-talet', 'på längre sikt', 'på regniga dagar', 'på torsdagskvällen', 'sedan februari', 'sedan mars', 'så snart', 'thangameengal\"?', 'under 2015', 'under 2020', 'under i februari', 'under vintern', 'walthpire.com', 'Östasien', 'Österrike', 'Östersjöns'] will be ignored\n",
      "  warnings.warn(\n"
     ]
    }
   ],
   "source": [
    "# One-hot encode the entity lists using the same MultiLabelBinarizer instance used to transform the training data\n",
    "X_test = mlb.transform(X_test)"
   ]
  },
  {
   "cell_type": "code",
   "execution_count": 11,
   "metadata": {},
   "outputs": [],
   "source": [
    "# Test the decision tree model\n",
    "y_pred = tree.predict(X_test)"
   ]
  },
  {
   "cell_type": "code",
   "execution_count": 12,
   "metadata": {},
   "outputs": [
    {
     "name": "stdout",
     "output_type": "stream",
     "text": [
      "              precision    recall  f1-score   support\n",
      "\n",
      "           0    0.77159   0.98460   0.86517       844\n",
      "           1    0.97514   0.67460   0.79750       756\n",
      "\n",
      "    accuracy                        0.83813      1600\n",
      "   macro avg    0.87337   0.82960   0.83134      1600\n",
      "weighted avg    0.86777   0.83813   0.83320      1600\n",
      "\n"
     ]
    },
    {
     "data": {
      "image/png": "[encoded data removed]",
      "text/plain": [
       "<Figure size 640x480 with 2 Axes>"
      ]
     },
     "metadata": {},
     "output_type": "display_data"
    }
   ],
   "source": [
    "report = sklearn.metrics.classification_report(y_test, y_pred, digits=5)\n",
    "print(report)\n",
    "\n",
    "# Create and display a graphical confusion matrix\n",
    "cm = confusion_matrix(y_test, y_pred)\n",
    "cm_display = ConfusionMatrixDisplay(cm, display_labels=['Random', 'Domain specific'])\n",
    "cm_display.plot(cmap=plt.cm.Blues)\n",
    "plt.show()"
   ]
  },
  {
   "cell_type": "code",
   "execution_count": 17,
   "metadata": {},
   "outputs": [
    {
     "name": "stderr",
     "output_type": "stream",
     "text": [
      "/var/folders/q1/vj3rtg0j2ps7rtxf7_n3mq3c0000gn/T/ipykernel_5439/342284836.py:7: SettingWithCopyWarning: \n",
      "A value is trying to be set on a copy of a slice from a DataFrame.\n",
      "Try using .loc[row_indexer,col_indexer] = value instead\n",
      "\n",
      "See the caveats in the documentation: https://pandas.pydata.org/pandas-docs/stable/user_guide/indexing.html#returning-a-view-versus-a-copy\n",
      "  misclassified[\"entities\"] = misclassified[\"question\"].apply(preprocess)\n"
     ]
    },
    {
     "data": {
      "text/html": [
       "<div>\n",
       "<style scoped>\n",
       "    .dataframe tbody tr th:only-of-type {\n",
       "        vertical-align: middle;\n",
       "    }\n",
       "\n",
       "    .dataframe tbody tr th {\n",
       "        vertical-align: top;\n",
       "    }\n",
       "\n",
       "    .dataframe thead th {\n",
       "        text-align: right;\n",
       "    }\n",
       "</style>\n",
       "<table border=\"1\" class=\"dataframe\">\n",
       "  <thead>\n",
       "    <tr style=\"text-align: right;\">\n",
       "      <th></th>\n",
       "      <th>question</th>\n",
       "      <th>label</th>\n",
       "      <th>entities</th>\n",
       "    </tr>\n",
       "  </thead>\n",
       "  <tbody>\n",
       "    <tr>\n",
       "      <th>3228</th>\n",
       "      <td>Löstes konflikten i Sudan som orsakade massakern i Darfur, etc. efter Sydsudans självständighet?</td>\n",
       "      <td>0</td>\n",
       "      <td>[Sudan, Darfur, etc., Sydsudans]</td>\n",
       "    </tr>\n",
       "    <tr>\n",
       "      <th>2745</th>\n",
       "      <td>Vad är särskilt bra med tyska granater av typen Vulcano?</td>\n",
       "      <td>1</td>\n",
       "      <td>[]</td>\n",
       "    </tr>\n",
       "    <tr>\n",
       "      <th>1307</th>\n",
       "      <td>Vad varnar Kyivregionens guvernör för i veckan?</td>\n",
       "      <td>1</td>\n",
       "      <td>[Kyivregionens, i veckan]</td>\n",
       "    </tr>\n",
       "    <tr>\n",
       "      <th>4941</th>\n",
       "      <td>Varför är det mentalt lättare för många att låta bli att investera sina pengar enligt Jacob Liebermann på Fundler?</td>\n",
       "      <td>1</td>\n",
       "      <td>[Jacob Liebermann, Fundler]</td>\n",
       "    </tr>\n",
       "    <tr>\n",
       "      <th>3371</th>\n",
       "      <td>Hur mycket kan Google komma att tvingas betala i böter enligt ryska tillsynsmyndigheten Roskomnadzor?</td>\n",
       "      <td>1</td>\n",
       "      <td>[Google]</td>\n",
       "    </tr>\n",
       "    <tr>\n",
       "      <th>...</th>\n",
       "      <td>...</td>\n",
       "      <td>...</td>\n",
       "      <td>...</td>\n",
       "    </tr>\n",
       "    <tr>\n",
       "      <th>2461</th>\n",
       "      <td>Hur mycket har stadens elförsörjning minskat inför den annalkande vintern enligt Yasno?</td>\n",
       "      <td>1</td>\n",
       "      <td>[]</td>\n",
       "    </tr>\n",
       "    <tr>\n",
       "      <th>1125</th>\n",
       "      <td>Vad säger soldaten om behovet av bättre vapen för att bekämpa ryssarna?</td>\n",
       "      <td>1</td>\n",
       "      <td>[]</td>\n",
       "    </tr>\n",
       "    <tr>\n",
       "      <th>6591</th>\n",
       "      <td>Vad producerar företaget Tlusty nu efter den ryska invasionen?</td>\n",
       "      <td>1</td>\n",
       "      <td>[]</td>\n",
       "    </tr>\n",
       "    <tr>\n",
       "      <th>5985</th>\n",
       "      <td>Vilka åtgärder har det internationella ishockeyförbundet IIHF vidtagit?</td>\n",
       "      <td>1</td>\n",
       "      <td>[IIHF]</td>\n",
       "    </tr>\n",
       "    <tr>\n",
       "      <th>4607</th>\n",
       "      <td>Varför innebär alternativa exportvägar för ukrainsk spannmål högre kostnader?</td>\n",
       "      <td>1</td>\n",
       "      <td>[]</td>\n",
       "    </tr>\n",
       "  </tbody>\n",
       "</table>\n",
       "<p>259 rows × 3 columns</p>\n",
       "</div>"
      ],
      "text/plain": [
       "                                                                                                                question  \\\n",
       "3228                    Löstes konflikten i Sudan som orsakade massakern i Darfur, etc. efter Sydsudans självständighet?   \n",
       "2745                                                            Vad är särskilt bra med tyska granater av typen Vulcano?   \n",
       "1307                                                                     Vad varnar Kyivregionens guvernör för i veckan?   \n",
       "4941  Varför är det mentalt lättare för många att låta bli att investera sina pengar enligt Jacob Liebermann på Fundler?   \n",
       "3371               Hur mycket kan Google komma att tvingas betala i böter enligt ryska tillsynsmyndigheten Roskomnadzor?   \n",
       "...                                                                                                                  ...   \n",
       "2461                             Hur mycket har stadens elförsörjning minskat inför den annalkande vintern enligt Yasno?   \n",
       "1125                                             Vad säger soldaten om behovet av bättre vapen för att bekämpa ryssarna?   \n",
       "6591                                                      Vad producerar företaget Tlusty nu efter den ryska invasionen?   \n",
       "5985                                             Vilka åtgärder har det internationella ishockeyförbundet IIHF vidtagit?   \n",
       "4607                                       Varför innebär alternativa exportvägar för ukrainsk spannmål högre kostnader?   \n",
       "\n",
       "      label                          entities  \n",
       "3228      0  [Sudan, Darfur, etc., Sydsudans]  \n",
       "2745      1                                []  \n",
       "1307      1         [Kyivregionens, i veckan]  \n",
       "4941      1       [Jacob Liebermann, Fundler]  \n",
       "3371      1                          [Google]  \n",
       "...     ...                               ...  \n",
       "2461      1                                []  \n",
       "1125      1                                []  \n",
       "6591      1                                []  \n",
       "5985      1                            [IIHF]  \n",
       "4607      1                                []  \n",
       "\n",
       "[259 rows x 3 columns]"
      ]
     },
     "execution_count": 17,
     "metadata": {},
     "output_type": "execute_result"
    }
   ],
   "source": [
    "\n",
    "# Prevent truncation of text\n",
    "# pd.set_option('display.max_colwidth', None)\n",
    "# Show more rows\n",
    "pd.set_option('display.max_rows', 350)\n",
    "# Show the questions that were misclassified and their entity lists\n",
    "misclassified = testing_data[testing_data[\"label\"] != y_pred]\n",
    "misclassified[\"entities\"] = misclassified[\"question\"].apply(preprocess)\n",
    "misclassified"
   ]
  }
 ],
 "metadata": {
  "kernelspec": {
   "display_name": "Python 3",
   "language": "python",
   "name": "python3"
  },
  "language_info": {
   "codemirror_mode": {
    "name": "ipython",
    "version": 3
   },
   "file_extension": ".py",
   "mimetype": "text/x-python",
   "name": "python",
   "nbconvert_exporter": "python",
   "pygments_lexer": "ipython3",
   "version": "3.9.6"
  },
  "orig_nbformat": 4
 },
 "nbformat": 4,
 "nbformat_minor": 2
}
